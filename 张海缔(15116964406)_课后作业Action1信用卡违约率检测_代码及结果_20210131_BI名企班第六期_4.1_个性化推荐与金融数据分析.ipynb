{
 "cells": [
  {
   "cell_type": "code",
   "execution_count": 44,
   "metadata": {},
   "outputs": [
    {
     "name": "stdout",
     "output_type": "stream",
     "text": [
      "       LIMIT_BAL  SEX  EDUCATION  MARRIAGE  AGE  PAY_0  PAY_2  PAY_3  PAY_4  \\\n",
      "0        20000.0    2          2         1   24      2      2     -1     -1   \n",
      "1       120000.0    2          2         2   26     -1      2      0      0   \n",
      "2        90000.0    2          2         2   34      0      0      0      0   \n",
      "3        50000.0    2          2         1   37      0      0      0      0   \n",
      "4        50000.0    1          2         1   57     -1      0     -1      0   \n",
      "...          ...  ...        ...       ...  ...    ...    ...    ...    ...   \n",
      "29995   220000.0    1          3         1   39      0      0      0      0   \n",
      "29996   150000.0    1          3         2   43     -1     -1     -1     -1   \n",
      "29997    30000.0    1          2         2   37      4      3      2     -1   \n",
      "29998    80000.0    1          3         1   41      1     -1      0      0   \n",
      "29999    50000.0    1          2         1   46      0      0      0      0   \n",
      "\n",
      "       PAY_5  ...  BILL_AMT4  BILL_AMT5  BILL_AMT6  PAY_AMT1  PAY_AMT2  \\\n",
      "0         -2  ...        0.0        0.0        0.0       0.0     689.0   \n",
      "1          0  ...     3272.0     3455.0     3261.0       0.0    1000.0   \n",
      "2          0  ...    14331.0    14948.0    15549.0    1518.0    1500.0   \n",
      "3          0  ...    28314.0    28959.0    29547.0    2000.0    2019.0   \n",
      "4          0  ...    20940.0    19146.0    19131.0    2000.0   36681.0   \n",
      "...      ...  ...        ...        ...        ...       ...       ...   \n",
      "29995      0  ...    88004.0    31237.0    15980.0    8500.0   20000.0   \n",
      "29996      0  ...     8979.0     5190.0        0.0    1837.0    3526.0   \n",
      "29997      0  ...    20878.0    20582.0    19357.0       0.0       0.0   \n",
      "29998      0  ...    52774.0    11855.0    48944.0   85900.0    3409.0   \n",
      "29999      0  ...    36535.0    32428.0    15313.0    2078.0    1800.0   \n",
      "\n",
      "       PAY_AMT3  PAY_AMT4  PAY_AMT5  PAY_AMT6  default.payment.next.month  \n",
      "0           0.0       0.0       0.0       0.0                           1  \n",
      "1        1000.0    1000.0       0.0    2000.0                           1  \n",
      "2        1000.0    1000.0    1000.0    5000.0                           0  \n",
      "3        1200.0    1100.0    1069.0    1000.0                           0  \n",
      "4       10000.0    9000.0     689.0     679.0                           0  \n",
      "...         ...       ...       ...       ...                         ...  \n",
      "29995    5003.0    3047.0    5000.0    1000.0                           0  \n",
      "29996    8998.0     129.0       0.0       0.0                           0  \n",
      "29997   22000.0    4200.0    2000.0    3100.0                           1  \n",
      "29998    1178.0    1926.0   52964.0    1804.0                           1  \n",
      "29999    1430.0    1000.0    1000.0    1000.0                           1  \n",
      "\n",
      "[30000 rows x 24 columns]\n",
      "(30000, 24)\n",
      "            LIMIT_BAL           SEX     EDUCATION      MARRIAGE           AGE  \\\n",
      "count    30000.000000  30000.000000  30000.000000  30000.000000  30000.000000   \n",
      "mean    167484.322667      1.603733      1.853133      1.551867     35.485500   \n",
      "std     129747.661567      0.489129      0.790349      0.521970      9.217904   \n",
      "min      10000.000000      1.000000      0.000000      0.000000     21.000000   \n",
      "25%      50000.000000      1.000000      1.000000      1.000000     28.000000   \n",
      "50%     140000.000000      2.000000      2.000000      2.000000     34.000000   \n",
      "75%     240000.000000      2.000000      2.000000      2.000000     41.000000   \n",
      "max    1000000.000000      2.000000      6.000000      3.000000     79.000000   \n",
      "\n",
      "              PAY_0         PAY_2         PAY_3         PAY_4         PAY_5  \\\n",
      "count  30000.000000  30000.000000  30000.000000  30000.000000  30000.000000   \n",
      "mean      -0.016700     -0.133767     -0.166200     -0.220667     -0.266200   \n",
      "std        1.123802      1.197186      1.196868      1.169139      1.133187   \n",
      "min       -2.000000     -2.000000     -2.000000     -2.000000     -2.000000   \n",
      "25%       -1.000000     -1.000000     -1.000000     -1.000000     -1.000000   \n",
      "50%        0.000000      0.000000      0.000000      0.000000      0.000000   \n",
      "75%        0.000000      0.000000      0.000000      0.000000      0.000000   \n",
      "max        8.000000      8.000000      8.000000      8.000000      8.000000   \n",
      "\n",
      "       ...      BILL_AMT4      BILL_AMT5      BILL_AMT6       PAY_AMT1  \\\n",
      "count  ...   30000.000000   30000.000000   30000.000000   30000.000000   \n",
      "mean   ...   43262.948967   40311.400967   38871.760400    5663.580500   \n",
      "std    ...   64332.856134   60797.155770   59554.107537   16563.280354   \n",
      "min    ... -170000.000000  -81334.000000 -339603.000000       0.000000   \n",
      "25%    ...    2326.750000    1763.000000    1256.000000    1000.000000   \n",
      "50%    ...   19052.000000   18104.500000   17071.000000    2100.000000   \n",
      "75%    ...   54506.000000   50190.500000   49198.250000    5006.000000   \n",
      "max    ...  891586.000000  927171.000000  961664.000000  873552.000000   \n",
      "\n",
      "           PAY_AMT2      PAY_AMT3       PAY_AMT4       PAY_AMT5  \\\n",
      "count  3.000000e+04   30000.00000   30000.000000   30000.000000   \n",
      "mean   5.921163e+03    5225.68150    4826.076867    4799.387633   \n",
      "std    2.304087e+04   17606.96147   15666.159744   15278.305679   \n",
      "min    0.000000e+00       0.00000       0.000000       0.000000   \n",
      "25%    8.330000e+02     390.00000     296.000000     252.500000   \n",
      "50%    2.009000e+03    1800.00000    1500.000000    1500.000000   \n",
      "75%    5.000000e+03    4505.00000    4013.250000    4031.500000   \n",
      "max    1.684259e+06  896040.00000  621000.000000  426529.000000   \n",
      "\n",
      "            PAY_AMT6  default.payment.next.month  \n",
      "count   30000.000000                30000.000000  \n",
      "mean     5215.502567                    0.221200  \n",
      "std     17777.465775                    0.415062  \n",
      "min         0.000000                    0.000000  \n",
      "25%       117.750000                    0.000000  \n",
      "50%      1500.000000                    0.000000  \n",
      "75%      4000.000000                    0.000000  \n",
      "max    528666.000000                    1.000000  \n",
      "\n",
      "[8 rows x 24 columns]\n"
     ]
    }
   ],
   "source": [
    "import pandas as pd\n",
    "import matplotlib.pyplot as plt\n",
    "import seaborn as sns\n",
    "from sklearn.model_selection import train_test_split\n",
    "from sklearn.svm import SVC\n",
    "from sklearn.tree import DecisionTreeClassifier\n",
    "from sklearn.ensemble import RandomForestClassifier\n",
    "from sklearn.neighbors import KNeighborsClassifier\n",
    "from sklearn.model_selection import GridSearchCV\n",
    "from sklearn.pipeline import Pipeline\n",
    "from sklearn.preprocessing import StandardScaler\n",
    "from sklearn.metrics import accuracy_score\n",
    "\n",
    "#步骤一 数据加载与预处理,查看数据特征，绘制图表\n",
    "#1)删除多余字段ID，查看样本行列数，最大值最小值等特征描述\n",
    "\n",
    "data = pd.read_csv('./UCI_Credit_Card.csv')\n",
    "data.drop(['ID'], inplace=True, axis=1)\n",
    "print(data)\n",
    "print(data.shape)\n",
    "print(data.describe())"
   ]
  },
  {
   "cell_type": "code",
   "execution_count": 45,
   "metadata": {},
   "outputs": [
    {
     "name": "stdout",
     "output_type": "stream",
     "text": [
      "0    23364\n",
      "1     6636\n",
      "Name: default.payment.next.month, dtype: int64\n"
     ]
    }
   ],
   "source": [
    "#步骤一 数据加载与预处理,查看数据特征，绘制图表\n",
    "#2)查看样本中违约数量\n",
    "\n",
    "next_month = data['default.payment.next.month'].value_counts()\n",
    "print(next_month)"
   ]
  },
  {
   "cell_type": "code",
   "execution_count": 46,
   "metadata": {},
   "outputs": [
    {
     "data": {
      "image/png": "[encoded data removed]",
      "text/plain": [
       "<Figure size 432x288 with 1 Axes>"
      ]
     },
     "metadata": {
      "needs_background": "light"
     },
     "output_type": "display_data"
    }
   ],
   "source": [
    "#步骤一 数据加载与预处理,查看数据特征，绘制图表\n",
    "#3)绘制图表\n",
    "\n",
    "df = pd.DataFrame({'default.payment.next.month':next_month.index,'values':next_month.values})\n",
    "plt.title('Credit Default')\n",
    "sns.barplot (x='default.payment.next.month', y='values',data=df)\n",
    "plt.show()"
   ]
  },
  {
   "cell_type": "code",
   "execution_count": 47,
   "metadata": {},
   "outputs": [
    {
     "name": "stdout",
     "output_type": "stream",
     "text": [
      "['LIMIT_BAL', 'SEX', 'EDUCATION', 'MARRIAGE', 'AGE', 'PAY_0', 'PAY_2', 'PAY_3', 'PAY_4', 'PAY_5', 'PAY_6', 'BILL_AMT1', 'BILL_AMT2', 'BILL_AMT3', 'BILL_AMT4', 'BILL_AMT5', 'BILL_AMT6', 'PAY_AMT1', 'PAY_AMT2', 'PAY_AMT3', 'PAY_AMT4', 'PAY_AMT5', 'PAY_AMT6']\n"
     ]
    }
   ],
   "source": [
    "#步骤二 准备训练数据集\n",
    "\n",
    "target = data['default.payment.next.month'].values\n",
    "columns = data.columns.tolist()\n",
    "columns.remove('default.payment.next.month')\n",
    "features = data[columns].values\n",
    "print(columns)\n"
   ]
  },
  {
   "cell_type": "code",
   "execution_count": 49,
   "metadata": {},
   "outputs": [
    {
     "name": "stdout",
     "output_type": "stream",
     "text": [
      "GridSearchCV最优参数： {'svc__C': 1, 'svc__gamma': 0.01}\n",
      "GridSearchCV最优分数： 0.815047619047619\n",
      "准确率 0.8172\n",
      "GridSearchCV最优参数： {'decisiontreeclassifier__max_depth': 6}\n",
      "GridSearchCV最优分数： 0.8166666666666667\n",
      "准确率 0.8207\n",
      "GridSearchCV最优参数： {'randomforestclassifier__n_estimators': 6}\n",
      "GridSearchCV最优分数： 0.7952857142857143\n",
      "准确率 0.8022\n",
      "GridSearchCV最优参数： {'kneighborsclassifier__n_neighbors': 8}\n",
      "GridSearchCV最优分数： 0.8003809523809524\n",
      "准确率 0.8052\n"
     ]
    }
   ],
   "source": [
    "#步骤三 训练并预测违约率\n",
    "train_x,test_x,train_y,test_y = train_test_split(features,target,test_size=0.3)\n",
    "\n",
    "#1)构造分类器\n",
    "classifiers = [\n",
    "    SVC(),\n",
    "    DecisionTreeClassifier(),\n",
    "    RandomForestClassifier(),\n",
    "    KNeighborsClassifier(),\n",
    "]\n",
    "#2)标注分类器名称\n",
    "classifier_names = [\n",
    "    'svc',\n",
    "    'decisiontreeclassifier',\n",
    "    'randomforestclassifier',\n",
    "    'kneighborsclassifier'\n",
    "]\n",
    "\n",
    "#3)设置分类器参数\n",
    "classifier_param_grid = [\n",
    "            {'svc__C':[1], 'svc__gamma':[0.01]},\n",
    "            {'decisiontreeclassifier__max_depth':[6,9,11]},\n",
    "            {'randomforestclassifier__n_estimators':[3,5,6]} ,\n",
    "            {'kneighborsclassifier__n_neighbors':[4,6,8]},\n",
    "]\n",
    "\n",
    "#4)对具体的分类器进行GridSearchCV参数调优，最终输出预测结果\n",
    "def GridSearchCV_work(pipeline, train_x, train_y, test_x, test_y, model_param_grid , score = 'accuracy'):\n",
    "    gridsearch = GridSearchCV(estimator=pipeline,param_grid=model_param_grid, scoring=score)\n",
    "    #寻找最优参数 和 最优准确率分数\n",
    "    search = gridsearch.fit(train_x, train_y)\n",
    "    print('GridSearchCV最优参数：',search.best_params_)\n",
    "    print('GridSearchCV最优分数：',search.best_score_)\n",
    "    predict_y = gridsearch.predict(test_x)\n",
    "    print('准确率 %0.4lf' %accuracy_score(test_y, predict_y))\n",
    "    \n",
    "    response = {}\n",
    "    response['predict_y'] = predict_y\n",
    "    response['accuracy_score'] = accuracy_score(test_y, predict_y)\n",
    "    return response\n",
    "    \n",
    "for model, model_name, model_param_grid in zip(classifiers, classifier_names, classifier_param_grid):\n",
    "    pipeline = Pipeline([\n",
    "            ('scaler', StandardScaler()),\n",
    "            (model_name, model)\n",
    "    ])\n",
    "    result = GridSearchCV_work(pipeline, train_x, train_y, test_x, test_y, model_param_grid , score = 'accuracy')\n",
    " \n"
   ]
  }
 ],
 "metadata": {
  "kernelspec": {
   "display_name": "Python 3",
   "language": "python",
   "name": "python3"
  },
  "language_info": {
   "codemirror_mode": {
    "name": "ipython",
    "version": 3
   },
   "file_extension": ".py",
   "mimetype": "text/x-python",
   "name": "python",
   "nbconvert_exporter": "python",
   "pygments_lexer": "ipython3",
   "version": "3.7.6"
  }
 },
 "nbformat": 4,
 "nbformat_minor": 4
}
